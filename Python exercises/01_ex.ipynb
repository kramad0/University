{
 "cells": [
  {
   "cell_type": "markdown",
   "metadata": {},
   "source": [
    "## Autorzy: Maciej Wilamowski,  Piotr Ćwiakowski\n",
    "\n",
    "### Podstawy Pythona - ćwiczenia\n",
    "Przy rozwiązywaniu ćwiczeń w niniejszym kursie można, a nawet należy pomagać sobie w niektorych sytuacjach wyszukując informacji w Internecie (google, stackoverflow, etc.). Umiejętne i szybkie znajdowanie rozwiązania problemu z pomocą internetu jest ważną umiejętnością."
   ]
  },
  {
   "cell_type": "markdown",
   "metadata": {},
   "source": [
    "### Ćwiczenie 1. Markdown\n",
    "Wykorzystując komórkę poniżej, poćwicz krótką składnię Markdown, formatując poniższy tekst. Możesz skorzystać z jednej z poniżej ściągawki:\n",
    "\n",
    "* https://github.com/adam-p/markdown-here/wiki/Markdown-Cheatsheet"
   ]
  },
  {
   "cell_type": "markdown",
   "metadata": {},
   "source": [
    "# Współczesne definicje uczenia się\n",
    "#### Uczenie się w kontekście sztucznej inteligencji oraz automatyki rozumiane jest inaczej niż tradycyjnie. Proces uczenia się systemu ma za zadanie osiągnięcie rezultatów opartych na wiedzy fragmentarycznej, umożliwiać doskonalenie się, tworzyć nowe pojęcia oraz wnioskować indukcyjnie.\n",
    "\n",
    "### Herbert Simon (1983)\n",
    "#### *\"Uczenie się oznacza zmiany w systemie, które mają charakter adaptacyjny w tym sensie, że pozwalają systemowi wykonać za następnym razem takie samo zadanie lub zadania podobne bardziej efektywnie.\"*\n",
    "### Ryszard Michalski (1986)\n",
    "#### *\"Uczenie się to konstruowanie i zmiana reprezentacji doświadczanych faktów. W ocenie konstruowania reprezentacji bierze się pod uwagę: wiarygodność – określa stopień w jakim reprezentacji odpowiada rzeczywistości, efektywność – charakteryzuje przydatność reprezentacji do osiągania danego celu, poziom abstrakcji – odpowiada zakresowi szczegółowości i precyzji pojęć używanych w reprezentacji; określa on tzw. moc opisową reprezentacji. Reprezentacja jest rozumiana jako np. opisy symboliczne, algorytmy, modele symulacyjne, plany, obrazy.\"*\n",
    "### Donald Michie (1991)\n",
    "#### *\"System uczący się wykorzystuje zewnętrzne dane empiryczne w celu tworzenia i aktualizacji podstaw dla udoskonalonego działania na podobnych danych w przyszłości oraz wyrażania tych podstaw w zrozumiałej i symbolicznej postaci\".*\n",
    "\n",
    "\n",
    "# Cele teoretyczne i ogólne zastosowanie uczenia maszynowego\n",
    "#### Uczenie maszynowe w teorii ma prowadzić do określonych celów m.in.:\n",
    "\n",
    "* tworzenia nowych pojęć,\n",
    "* wykrywania nieznanych prawidłowości w danych,\n",
    "* formułowania reguł decyzyjnych,\n",
    "* przyswajania nowych pojęć i struktur przy pomocy uogólnienia i analogii,\n",
    "* modyfikowania, uogólniania i precyzowania danych,\n",
    "* zdobywania wiedzy poprzez interakcję z otoczeniem,\n",
    "* formułowania wiedzy zrozumiałej dla człowieka.\n",
    "* Ogólne zastosowanie maszynowego uczenia się to m.in.:\n",
    "\n",
    "1. analiza i użytkowanie olbrzymich baz danych, w przypadku których rozmiary, złożoność oraz wymóg ciągłej aktualizacji uniemożliwiają niezautomatyzowaną analizę (np. w takich dziedzinach jak ekonomia, medycyna, chemia)\n",
    "2. dostosowywanie się systemu do środowiska poprzez dynamiczną modyfikację, pozwalającą na poprawne działanie w zmiennych warunkach (robotyka, systemy sterowania, produkcji, analizy danych)\n",
    "1. poszukiwanie i analiza zależności w dużych bazach danych w celu syntetycznego przedstawiania informacji według podanych kryteriów (systemy eksperckie, wyszukiwarki internetowe)\n",
    "1. analiza, badanie i opracowywanie bardzo złożonych problemów, trudnych do opisu i często nie posiadających wystarczających modeli teoretycznych, których uzyskanie jest kosztowne, czasochłonne lub mało wiarygodne (fizyka, matematyka)"
   ]
  },
  {
   "cell_type": "markdown",
   "metadata": {},
   "source": [
    "### Ćwiczenie 2. Proste zmienne i print\n",
    "* Wykonaj tradycyjny Hello World, w następujący sposób. Stwórz dwa stringi, po jednym na każde słowo. Utwórz trzecią zmienną, która będzie sklejeniem pierwszych dwóch (mogą być rozdzielone spacją), a następnie wyświetl jej zawartość."
   ]
  },
  {
   "cell_type": "code",
   "execution_count": 20,
   "metadata": {},
   "outputs": [
    {
     "name": "stdout",
     "output_type": "stream",
     "text": [
      "Hello World\n",
      "The history saving thread hit an unexpected error (OperationalError('attempt to write a readonly database')).History will not be written to the database.\n"
     ]
    }
   ],
   "source": [
    "pierwsza = \"Hello\"\n",
    "druga = \"World\"\n",
    "trzecia = pierwsza + \" \" + druga\n",
    "print(trzecia)"
   ]
  },
  {
   "cell_type": "markdown",
   "metadata": {},
   "source": [
    "### Ćwiczenie 3. Listy\n",
    "Wykonaj następujące zadania dotyczące list:\n",
    "* Utwórz listę, która będzie zawierać trzy imiona.\n",
    "* Dodaj czwarte imię na końcu listy.\n",
    "* Dodaj kolejne imię na początku listy.\n",
    "* Usuń z listy trzeci element.\n",
    "* Wyświetl liczbę elementów stworzonej listy.\n",
    "* Korzystając ze składni pythona sprawdź czy na liście są nastepujące imiona: Magda, Baltazar, Zygfryd"
   ]
  },
  {
   "cell_type": "code",
   "execution_count": 21,
   "metadata": {},
   "outputs": [
    {
     "name": "stdout",
     "output_type": "stream",
     "text": [
      "['Adam', 'Beata', 'Pawel']\n",
      "['Adam', 'Beata', 'Pawel', 'Robert']\n",
      "['Jeremiasz', 'Adam', 'Beata', 'Pawel', 'Robert']\n",
      "['Jeremiasz', 'Adam', 'Pawel', 'Robert']\n",
      "Czy na liście są Magda, Baltazar i Zygfryd?: True\n"
     ]
    }
   ],
   "source": [
    "pierwsza = ['Adam', 'Beata', 'Pawel']\n",
    "print(pierwsza)\n",
    "pierwsza.append('Robert')\n",
    "print(pierwsza)\n",
    "pierwsza.insert(0, 'Jeremiasz')\n",
    "print(pierwsza)\n",
    "pierwsza.pop(2)\n",
    "print(pierwsza)\n",
    "len(pierwsza)\n",
    "print(\"Czy na liście są Magda, Baltazar i Zygfryd?:\", \n",
    "      any(name in pierwsza for name in ['Magda', 'Adam', 'Zygfryd']))"
   ]
  },
  {
   "cell_type": "markdown",
   "metadata": {},
   "source": [
    "* Utwórz listę, która zawierać będzie trzy liczby.\n",
    "* Połącz ze sobą dwie posiadane listy.\n",
    "* Utwórz nową listę, która będzie listą wszystkich trzech posiadanych do tej pory list.\n",
    "* Stwórz kopię listy list.\n",
    "* Wyczyść pierwotną listę list.\n",
    "* Usuń z kopii listę imion."
   ]
  },
  {
   "cell_type": "code",
   "execution_count": 22,
   "metadata": {},
   "outputs": [
    {
     "name": "stdout",
     "output_type": "stream",
     "text": [
      "[[1, 2, 3], ['Adam', 'Beata', 'Pawel', 1, 2, 3]]\n",
      "[]\n"
     ]
    }
   ],
   "source": [
    "druga = [1,2,3]\n",
    "pierwsza = ['Adam', 'Beata', 'Pawel']\n",
    "trzecia = pierwsza + druga\n",
    "czwarta = [pierwsza, druga, trzecia]\n",
    "piata = czwarta.copy()\n",
    "czwarta.clear()\n",
    "piata.pop(0)\n",
    "print(piata)\n",
    "print(czwarta)"
   ]
  },
  {
   "cell_type": "markdown",
   "metadata": {},
   "source": [
    "Połącz ze sobą dwie poniższe listy, a następnie:\n",
    "* podaj ilość wystąpień liczby 13,\n",
    "* z listy wybierz wycinek o indeksach [2, 6)."
   ]
  },
  {
   "cell_type": "code",
   "execution_count": 23,
   "metadata": {},
   "outputs": [
    {
     "name": "stdout",
     "output_type": "stream",
     "text": [
      "[2, 2, 2, 3, 3, 3, 5, 5, 5, 7, 7, 8, 11, 11, 13, 13, 13, 17, 17, 21, 35, 56, 81]\n",
      "3\n",
      "[2, 3, 3, 3, 5]\n"
     ]
    }
   ],
   "source": [
    "lista1 = [2, 3, 5, 8, 13, 21, 35, 56, 81]\n",
    "lista2 = [2, 2, 3, 3, 5, 5, 7, 7, 11, 11, 13, 13, 17, 17]\n",
    "\n",
    "lista3 = lista1 + lista2\n",
    "lista3.sort()\n",
    "print(lista3)\n",
    "print(lista3.count(13))\n",
    "print(lista3[2:7])"
   ]
  },
  {
   "cell_type": "markdown",
   "metadata": {},
   "source": [
    "### Ćwiczenie 4. Zbiory\n",
    "Utwórz trzy zbiory kolorów (prawdziwe palety): koloryTeczy, koloryRGB, koloryCMYK, a następnie wykonaj poniższe zadania:\n",
    "* Do kolorów tęczy dodaj biały.\n",
    "* Z CMYKa usuń kolor, który odpowiada literze K.\n",
    "* Stwórz zbiór tych kolorów, które są w zbiorach tęczy i RGB.\n",
    "* Stwórz zbiór tych kolorów, które są w w zbiorze tęczy i nie ma ich w zbiorze CMYKa.\n",
    "* Stwórz zbiór, który będzie zawierał kolory ze wszystkich zbiorów.\n",
    "* Utwórz listę ze zbioru wszystkich kolorów."
   ]
  },
  {
   "cell_type": "code",
   "execution_count": 24,
   "metadata": {},
   "outputs": [
    {
     "data": {
      "text/plain": [
       "['orange',\n",
       " 'blue',\n",
       " 'white',\n",
       " 'navy',\n",
       " 'magenta',\n",
       " 'purple',\n",
       " 'yellow',\n",
       " 'red',\n",
       " 'cyan',\n",
       " 'green']"
      ]
     },
     "execution_count": 24,
     "metadata": {},
     "output_type": "execute_result"
    }
   ],
   "source": [
    "koloryTeczy = {\"red\", \"orange\", \"yellow\", \"green\", \"blue\", \"navy\", \"purple\"}\n",
    "koloryRGB = {\"red\", \"green\", \"blue\"}\n",
    "koloryCMYK = {\"cyan\", \"magenta\", \"yellow\", \"key\"}\n",
    "koloryTeczy.add(\"white\")\n",
    "koloryCMYK.discard(\"key\")\n",
    "teczairgb = koloryTeczy & koloryRGB\n",
    "teczairgb\n",
    "teczabezcmyka = koloryTeczy - koloryCMYK\n",
    "teczabezcmyka\n",
    "wszystkiekolory = koloryTeczy | koloryRGB | koloryCMYK\n",
    "list(wszystkiekolory)"
   ]
  },
  {
   "cell_type": "markdown",
   "metadata": {},
   "source": [
    "### Ćwiczenie 5. Słowniki\n",
    "Utwórz słownik angielsko-polski, który zawierał będzie Twoje trzy ulubione angielskie słowa, a następnie:\n",
    "* Dodaj pozycję \"autor\", która zawierać będzie Twoje imię i nazwisko\n",
    "* Usuń drugie z dodanych słów ze słownika.\n",
    "* Utwórz słownik polsko-angielski, który będzie tłumaczeniem posiadanego słownika.\n",
    "* Połącz dwa posiadane słowniki.\n",
    "* Znajdź dokumentację pythona 3.8 dla słowników."
   ]
  },
  {
   "cell_type": "code",
   "execution_count": 25,
   "metadata": {},
   "outputs": [
    {
     "name": "stdout",
     "output_type": "stream",
     "text": [
      "{'buy': 'kupic', 'die': 'umierac', 'cry': 'plakac'}\n",
      "{'buy': 'kupic', 'die': 'umierac', 'cry': 'plakac', 'autor': 'kramad0'}\n",
      "['buy', 'die', 'cry', 'autor']\n",
      "{'kupic': 'buy', 'plakac': 'cry'}\n",
      "{'buy': 'kupic', 'cry': 'plakac', 'autor': 'kramad0', 'kupic': 'buy', 'plakac': 'cry'}\n"
     ]
    }
   ],
   "source": [
    "angpol = dict({\"buy\" : \"kupic\", \"die\":\"umierac\", \"cry\":\"plakac\"})\n",
    "print(angpol)\n",
    "angpol[\"autor\"] = \"kramad0\"\n",
    "print(angpol)\n",
    "lista = list(angpol.keys())\n",
    "print(lista)\n",
    "del angpol[lista[1]]\n",
    "polang = {v: k for k, v in angpol.items() if k != \"autor\"}\n",
    "print(polang)\n",
    "razem = dict()\n",
    "for k, v in angpol.items():\n",
    "    razem[k] = v\n",
    "for k, v in polang.items():\n",
    "    razem[k] = v\n",
    "print(razem)\n"
   ]
  },
  {
   "cell_type": "markdown",
   "metadata": {},
   "source": [
    "### Ćwiczenie 6. Krotki\n",
    "Utwórz dwie następujące krotki:\n",
    "* Krotkę, która zawiera Twoje: imię, nazwisko i rok urodzenia\n",
    "* Krotkę, która zawiera trzy listy: koloryTeczy, koloryRGB, koloryCMYK."
   ]
  },
  {
   "cell_type": "code",
   "execution_count": 29,
   "metadata": {},
   "outputs": [
    {
     "data": {
      "text/plain": [
       "({'blue', 'green', 'navy', 'orange', 'purple', 'red', 'white', 'yellow'},\n",
       " {'blue', 'green', 'red'},\n",
       " {'cyan', 'magenta', 'yellow'})"
      ]
     },
     "execution_count": 29,
     "metadata": {},
     "output_type": "execute_result"
    }
   ],
   "source": [
    "krotka1 = \"kra\", \"mad\", 1\n",
    "krotka1\n",
    "krotka2 = koloryTeczy, koloryRGB, koloryCMYK\n",
    "krotka2"
   ]
  },
  {
   "cell_type": "markdown",
   "metadata": {},
   "source": [
    "### Ćwiczenie 7. Stringi"
   ]
  },
  {
   "cell_type": "markdown",
   "metadata": {},
   "source": [
    "Wykonaj następujące polecenia dla zmiennej lorem:\n",
    "* policz liczbę wyrazów (*podpowiedź: użyj split*),\n",
    "* utwórz nowy string z podkreśleniem (znak: _) zamiast spacji jako łącznik,\n",
    "* połącz wszystkie poniższe zmienne za pomocą spacji w jeden tekst (join), a następnie zamień wszystkie litery na duże."
   ]
  },
  {
   "cell_type": "code",
   "execution_count": 39,
   "metadata": {},
   "outputs": [
    {
     "name": "stdout",
     "output_type": "stream",
     "text": [
      "8\n"
     ]
    },
    {
     "data": {
      "text/plain": [
       "'LOREM IPSUM DOLOR SIT AMET, CONSECTETUR ADIPISCING ELIT. NUNC QUIS ORNARE ANTE, A TINCIDUNT TORTOR. VIVAMUS FACILISIS, ELIT NEC FERMENTUM LUCTUS, ENIM ENIM FERMENTUM MAURIS, ACCUMSAN EUISMOD NISL NISI SED IPSUM. MAECENAS SEMPER CONDIMENTUM IPSUM UT IACULIS. SUSPENDISSE TRISTIQUE, DOLOR A SAGITTIS PRETIUM, LEO DIAM ALIQUET LECTUS, UT ORNARE IPSUM MAURIS EU MASSA.'"
      ]
     },
     "execution_count": 39,
     "metadata": {},
     "output_type": "execute_result"
    }
   ],
   "source": [
    "lorem = \"Lorem ipsum dolor sit amet, consectetur adipiscing elit.\"\n",
    "lorem2 = \"Nunc quis ornare ante, a tincidunt tortor.\"\n",
    "lorem3 = \"Vivamus facilisis, elit nec fermentum luctus, enim enim fermentum mauris, accumsan euismod nisl nisi sed ipsum.\"\n",
    "lorem4 = \"Maecenas semper condimentum ipsum ut iaculis. Suspendisse tristique, dolor a sagittis pretium, leo diam aliquet lectus, ut ornare ipsum mauris eu massa.\"\n",
    "print(len(lorem.split(\" \")))\n",
    "lorem5 = lorem2.replace(\" \", \"_\")\n",
    "lorem5\n",
    "raz = \" \".join([lorem, lorem2, lorem3, lorem4]).upper()\n",
    "raz"
   ]
  },
  {
   "cell_type": "markdown",
   "metadata": {},
   "source": [
    "Używając placeholderów wstaw w miejsca oznaczone poprzez *blank* swoje dane."
   ]
  },
  {
   "cell_type": "code",
   "execution_count": 42,
   "metadata": {},
   "outputs": [
    {
     "name": "stdout",
     "output_type": "stream",
     "text": [
      "Mój ulubiony kolor to niebieski. Uważam, że przedmiot \n",
      "                        `Język programowania Python dla analityków danych` jest wazny przedmiotem.\n",
      "                        Śpię 5 godzin dziennie.\n"
     ]
    }
   ],
   "source": [
    "kolor = \"niebieski\"\n",
    "przymiotnik = \"wazny\"\n",
    "ilosc = 5\n",
    "very_important_data = \"\"\"Mój ulubiony kolor to {}. Uważam, że przedmiot \n",
    "                        `Język programowania Python dla analityków danych` jest {} przedmiotem.\n",
    "                        Śpię {} godzin dziennie.\"\"\". format(kolor, przymiotnik, ilosc)\n",
    "print(very_important_data)"
   ]
  },
  {
   "cell_type": "markdown",
   "metadata": {},
   "source": [
    "Korzystając z wbudowanych metod obiektu string i zmiennej lorem wykonaj poniższe polecenia:\n",
    "* Zmień zmienną w taki sposób, aby każde słowo rozpoczynało się wielką literą\n",
    "* Znajdź pozycję pierwszego wystąpienia substringa \"sit\" w lorem."
   ]
  },
  {
   "cell_type": "code",
   "execution_count": 8,
   "metadata": {},
   "outputs": [
    {
     "data": {
      "text/plain": [
       "18"
      ]
     },
     "execution_count": 8,
     "metadata": {},
     "output_type": "execute_result"
    }
   ],
   "source": [
    "lorem = \"Lorem ipsum dolor sit amet, consectetur adipiscing elit, sed do eiusmod tempor incididunt ut labore et dolore magna aliqua. Ut enim ad minim veniam, quis nostrud exercitation ullamco laboris nisi ut aliquip ex ea commodo consequat. Duis aute irure dolor in reprehenderit in voluptate velit esse cillum dolore eu fugiat nulla pariatur. Excepteur sint occaecat cupidatat non proident, sunt in culpa qui officia deserunt mollit anim id est laborum.\".title()\n",
    "lorem.find(\"Sit\")\n"
   ]
  }
 ],
 "metadata": {
  "kernelspec": {
   "display_name": "Python 3 (ipykernel)",
   "language": "python",
   "name": "python3"
  },
  "language_info": {
   "codemirror_mode": {
    "name": "ipython",
    "version": 3
   },
   "file_extension": ".py",
   "mimetype": "text/x-python",
   "name": "python",
   "nbconvert_exporter": "python",
   "pygments_lexer": "ipython3",
   "version": "3.13.3"
  }
 },
 "nbformat": 4,
 "nbformat_minor": 4
}
